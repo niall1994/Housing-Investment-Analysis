{
 "cells": [
  {
   "cell_type": "markdown",
   "metadata": {},
   "source": [
    "# A Jupyter Notebook to analyse a Housing Investment Opportunity\n",
    "\n",
    "This notebook is intended to be used to help in the valuation and estimate the potential from a housing investment"
   ]
  },
  {
   "cell_type": "markdown",
   "metadata": {},
   "source": [
    "# Initial Steps\n",
    "\n",
    "1. Read in required libraries\n",
    "2. Read in Data\n",
    "3. Initial Viewing of data\n",
    "    - Shape\n",
    "    - Column Names\n",
    "    - Info on each column"
   ]
  },
  {
   "cell_type": "code",
   "execution_count": 2,
   "metadata": {},
   "outputs": [],
   "source": [
    "import pandas as pd"
   ]
  },
  {
   "cell_type": "code",
   "execution_count": 3,
   "metadata": {},
   "outputs": [],
   "source": [
    "data = pd.read_csv('PPR-ALL.csv')"
   ]
  },
  {
   "cell_type": "code",
   "execution_count": 4,
   "metadata": {},
   "outputs": [
    {
     "data": {
      "text/plain": [
       "(444902, 9)"
      ]
     },
     "execution_count": 4,
     "metadata": {},
     "output_type": "execute_result"
    }
   ],
   "source": [
    "data.shape"
   ]
  },
  {
   "cell_type": "code",
   "execution_count": 5,
   "metadata": {},
   "outputs": [
    {
     "data": {
      "text/plain": [
       "Index(['Date_of_Sale', 'Address', 'Postal_Code', 'County', 'Price_EUR',\n",
       "       'Not_Full_Market_Price', 'VAT_Exclusive', 'Description_of_Property',\n",
       "       'Property_Size_Description'],\n",
       "      dtype='object')"
      ]
     },
     "execution_count": 5,
     "metadata": {},
     "output_type": "execute_result"
    }
   ],
   "source": [
    "data.columns"
   ]
  },
  {
   "cell_type": "code",
   "execution_count": 6,
   "metadata": {},
   "outputs": [
    {
     "name": "stdout",
     "output_type": "stream",
     "text": [
      "<class 'pandas.core.frame.DataFrame'>\n",
      "RangeIndex: 444902 entries, 0 to 444901\n",
      "Data columns (total 9 columns):\n",
      " #   Column                     Non-Null Count   Dtype \n",
      "---  ------                     --------------   ----- \n",
      " 0   Date_of_Sale               444902 non-null  object\n",
      " 1   Address                    444901 non-null  object\n",
      " 2   Postal_Code                83622 non-null   object\n",
      " 3   County                     444902 non-null  object\n",
      " 4   Price_EUR                  444902 non-null  object\n",
      " 5   Not_Full_Market_Price      444902 non-null  object\n",
      " 6   VAT_Exclusive              444902 non-null  object\n",
      " 7   Description_of_Property    444902 non-null  object\n",
      " 8   Property_Size_Description  52739 non-null   object\n",
      "dtypes: object(9)\n",
      "memory usage: 30.5+ MB\n"
     ]
    }
   ],
   "source": [
    "data.info()"
   ]
  },
  {
   "cell_type": "code",
   "execution_count": 10,
   "metadata": {},
   "outputs": [
    {
     "data": {
      "text/plain": [
       "{'Date_of_Sale': 0,\n",
       " 'Address': 1,\n",
       " 'Postal_Code': 2,\n",
       " 'County': 3,\n",
       " 'Price_EUR': 4,\n",
       " 'Not_Full_Market_Price': 5,\n",
       " 'VAT_Exclusive': 6,\n",
       " 'Description_of_Property': 7,\n",
       " 'Property_Size_Description': 8}"
      ]
     },
     "execution_count": 10,
     "metadata": {},
     "output_type": "execute_result"
    }
   ],
   "source": [
    "#Check the unique values for each column\n",
    "unique_array = []\n",
    "index_dictionary = {}\n",
    "\n",
    "for col in data.columns:\n",
    "    unique_array.append(data[col].value_counts())\n",
    "    index_dictionary[col] = data.columns.get_loc(col)"
   ]
  },
  {
   "cell_type": "code",
   "execution_count": 18,
   "metadata": {
    "scrolled": false
   },
   "outputs": [
    {
     "name": "stdout",
     "output_type": "stream",
     "text": [
      "\n",
      " Date_of_Sale \n",
      "Count: 3749\n",
      "Sum: 444902\n",
      "Unique Values:\n",
      " 12/22/14    1540\n",
      "12/20/13    1161\n",
      "12/19/14     964\n",
      "12/20/18     816\n",
      "12/20/19     801\n",
      "            ... \n",
      "4/22/12        1\n",
      "9/7/14         1\n",
      "3/29/20        1\n",
      "2/9/13         1\n",
      "3/16/19        1\n",
      "Name: Date_of_Sale, Length: 3749, dtype: int64\n",
      "\n",
      " Address \n",
      "Count: 416720\n",
      "Sum: 444901\n",
      "Unique Values:\n",
      " Broomfield, Midleton                     21\n",
      "HILLQUARTER, COOSAN, ATHLONE             11\n",
      "ROCK RD, BLACKROCK, DUNDALK              11\n",
      "FRIARSTOWN, GRANGE, KILMALLOCK           11\n",
      "Ballyargus, Redcastle                     9\n",
      "                                         ..\n",
      "71 Delvin Banks, The Naul, Co. Dublin     1\n",
      "16 Newtown Mews, Annacotty                1\n",
      "KILLEA, BALLINDERRY, TIPPERARY            1\n",
      "56 TOWNPARKS MANOR, KELLS, MEATH          1\n",
      "3 The Reeks, Rockfield, Killarney         1\n",
      "Name: Address, Length: 416720, dtype: int64\n",
      "\n",
      " Postal_Code \n",
      "Count: 31\n",
      "Sum: 83622\n",
      "Unique Values:\n",
      " Dublin 15               10455\n",
      "Dublin 18                6054\n",
      "Dublin 24                5805\n",
      "Dublin 8                 4992\n",
      "Dublin 4                 4810\n",
      "Dublin 9                 4751\n",
      "Dublin 7                 4675\n",
      "Dublin 11                4542\n",
      "Dublin 13                4192\n",
      "Dublin 12                4114\n",
      "Dublin 14                3953\n",
      "Dublin 16                3850\n",
      "Dublin 6                 3775\n",
      "Dublin 3                 3622\n",
      "Dublin 5                 3250\n",
      "Dublin 1                 2792\n",
      "Dublin 22                2457\n",
      "Dublin 2                 1659\n",
      "Dublin 10                1128\n",
      "Dublin 20                1022\n",
      "Dublin 17                 969\n",
      "Dublin 6w                 741\n",
      "Ní Bhaineann                4\n",
      "Baile Átha Cliath 3         2\n",
      "Baile Átha Cliath 18        2\n",
      "Baile Átha Cliath 9         1\n",
      "Baile Átha Cliath 5         1\n",
      "Baile Átha Cliath 14        1\n",
      "Baile Átha Cliath 15        1\n",
      "Baile ?tha Cliath 17        1\n",
      "Baile Átha Cliath 4         1\n",
      "Name: Postal_Code, dtype: int64\n",
      "\n",
      " County \n",
      "Count: 26\n",
      "Sum: 444902\n",
      "Unique Values:\n",
      " Dublin       143679\n",
      "Cork          48775\n",
      "Galway        22454\n",
      "Kildare       22150\n",
      "Meath         17586\n",
      "Limerick      16660\n",
      "Wexford       15025\n",
      "Wicklow       13760\n",
      "Kerry         12925\n",
      "Donegal       12178\n",
      "Tipperary     11912\n",
      "Louth         11815\n",
      "Waterford     11735\n",
      "Mayo          10528\n",
      "Clare         10188\n",
      "Westmeath      8594\n",
      "Kilkenny       6991\n",
      "Cavan          6914\n",
      "Laois          6736\n",
      "Sligo          6583\n",
      "Roscommon      6349\n",
      "Offaly         5286\n",
      "Carlow         4833\n",
      "Leitrim        3982\n",
      "Longford       3795\n",
      "Monaghan       3469\n",
      "Name: County, dtype: int64\n",
      "\n",
      " Price_EUR \n",
      "Count: 28163\n",
      "Sum: 444902\n",
      "Unique Values:\n",
      " € 150,000.00    5899\n",
      "€ 100,000.00    5501\n",
      "€ 200,000.00    5007\n",
      "€ 120,000.00    4699\n",
      "€ 180,000.00    4407\n",
      "                ... \n",
      "€ 41,950.00        1\n",
      "€ 86,652.00        1\n",
      "€ 140,998.00       1\n",
      "€ 338,018.00       1\n",
      "€ 61,560.00        1\n",
      "Name: Price_EUR, Length: 28163, dtype: int64\n",
      "\n",
      " Not_Full_Market_Price \n",
      "Count: 2\n",
      "Sum: 444902\n",
      "Unique Values:\n",
      " No     423092\n",
      "Yes     21810\n",
      "Name: Not_Full_Market_Price, dtype: int64\n",
      "\n",
      " VAT_Exclusive \n",
      "Count: 2\n",
      "Sum: 444902\n",
      "Unique Values:\n",
      " No     374252\n",
      "Yes     70650\n",
      "Name: VAT_Exclusive, dtype: int64\n",
      "\n",
      " Description_of_Property \n",
      "Count: 5\n",
      "Sum: 444902\n",
      "Unique Values:\n",
      " Second-Hand Dwelling house /Apartment    372730\n",
      "New Dwelling house /Apartment             72138\n",
      "Teach/Árasán Cónaithe Atháimhe               31\n",
      "Teach/Árasán Cónaithe Nua                     2\n",
      "Teach/?ras?n C?naithe Nua                     1\n",
      "Name: Description_of_Property, dtype: int64\n",
      "\n",
      " Property_Size_Description \n",
      "Count: 6\n",
      "Sum: 52739\n",
      "Unique Values:\n",
      " greater than or equal to 38 sq metres and less than 125 sq metres                  38027\n",
      "greater than 125 sq metres                                                          6857\n",
      "greater than or equal to 125 sq metres                                              4589\n",
      "less than 38 sq metres                                                              3263\n",
      "níos mó ná nó cothrom le 38 méadar cearnach agus níos lú ná 125 méadar cearnach        2\n",
      "n?os l? n? 38 m?adar cearnach                                                          1\n",
      "Name: Property_Size_Description, dtype: int64\n"
     ]
    }
   ],
   "source": [
    "for col in data.columns:\n",
    "    print(\"\\n\",col,\"\\nCount:\", unique_array[index_dictionary[col]].count())\n",
    "    print(\"Sum:\", unique_array[index_dictionary[col]].sum())\n",
    "    print(\"Unique Values:\\n\", unique_array[index_dictionary[col]])"
   ]
  },
  {
   "cell_type": "markdown",
   "metadata": {},
   "source": [
    "# Conclusions from these summaries\n",
    "\n",
    "1. The following columns seem to be missing data\n",
    "    - Address - 1 Missing Value\n",
    "    - Postal Code - Lots of missing values\n",
    "    - Property Size Description - Lots of Missing Values\n",
    "2. All Data types were read in as objects. This will need to be remidied"
   ]
  },
  {
   "cell_type": "code",
   "execution_count": null,
   "metadata": {},
   "outputs": [],
   "source": []
  }
 ],
 "metadata": {
  "kernelspec": {
   "display_name": "Python 3",
   "language": "python",
   "name": "python3"
  },
  "language_info": {
   "codemirror_mode": {
    "name": "ipython",
    "version": 3
   },
   "file_extension": ".py",
   "mimetype": "text/x-python",
   "name": "python",
   "nbconvert_exporter": "python",
   "pygments_lexer": "ipython3",
   "version": "3.8.5"
  }
 },
 "nbformat": 4,
 "nbformat_minor": 4
}
