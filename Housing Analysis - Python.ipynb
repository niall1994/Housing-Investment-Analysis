{
 "cells": [
  {
   "cell_type": "markdown",
   "metadata": {},
   "source": [
    "# A Jupyter Notebook to analyse a Housing Investment Opportunity\n",
    "\n",
    "This notebook is intended to be used to help in the valuation and estimate the potential from a housing investment"
   ]
  },
  {
   "cell_type": "markdown",
   "metadata": {},
   "source": [
    "# Initial Steps\n",
    "\n",
    "1. Read in required libraries\n",
    "2. Read in Data\n",
    "3. Initial Viewing of data\n",
    "    - Shape\n",
    "    - Column Names\n",
    "    - Info on each column"
   ]
  },
  {
   "cell_type": "code",
   "execution_count": 1,
   "metadata": {},
   "outputs": [],
   "source": [
    "import pandas as pd"
   ]
  },
  {
   "cell_type": "code",
   "execution_count": 4,
   "metadata": {},
   "outputs": [],
   "source": [
    "data = pd.read_csv('PPR-ALL.csv')"
   ]
  },
  {
   "cell_type": "code",
   "execution_count": 6,
   "metadata": {},
   "outputs": [
    {
     "data": {
      "text/plain": [
       "(444902, 9)"
      ]
     },
     "execution_count": 6,
     "metadata": {},
     "output_type": "execute_result"
    }
   ],
   "source": [
    "data.shape"
   ]
  },
  {
   "cell_type": "code",
   "execution_count": 9,
   "metadata": {},
   "outputs": [
    {
     "data": {
      "text/plain": [
       "Index(['Date_of_Sale', 'Address', 'Postal_Code', 'County', 'Price_EUR',\n",
       "       'Not_Full_Market_Price', 'VAT_Exclusive', 'Description_of_Property',\n",
       "       'Property_Size_Description'],\n",
       "      dtype='object')"
      ]
     },
     "execution_count": 9,
     "metadata": {},
     "output_type": "execute_result"
    }
   ],
   "source": [
    "data.columns"
   ]
  },
  {
   "cell_type": "code",
   "execution_count": 10,
   "metadata": {},
   "outputs": [
    {
     "name": "stdout",
     "output_type": "stream",
     "text": [
      "<class 'pandas.core.frame.DataFrame'>\n",
      "RangeIndex: 444902 entries, 0 to 444901\n",
      "Data columns (total 9 columns):\n",
      " #   Column                     Non-Null Count   Dtype \n",
      "---  ------                     --------------   ----- \n",
      " 0   Date_of_Sale               444902 non-null  object\n",
      " 1   Address                    444901 non-null  object\n",
      " 2   Postal_Code                83622 non-null   object\n",
      " 3   County                     444902 non-null  object\n",
      " 4   Price_EUR                  444902 non-null  object\n",
      " 5   Not_Full_Market_Price      444902 non-null  object\n",
      " 6   VAT_Exclusive              444902 non-null  object\n",
      " 7   Description_of_Property    444902 non-null  object\n",
      " 8   Property_Size_Description  52739 non-null   object\n",
      "dtypes: object(9)\n",
      "memory usage: 30.5+ MB\n"
     ]
    }
   ],
   "source": [
    "data.info()"
   ]
  },
  {
   "cell_type": "markdown",
   "metadata": {},
   "source": [
    "# Conclusions from these summaries\n",
    "\n",
    "1. The following columns seem to be missing data\n",
    "    - Address - 1 Missing Value\n",
    "    - Postal Code - Lots of missing values\n",
    "    - Property Size Description - Lots of Missing Values\n",
    "2. All Data types were read in as objects. This will need to be remidied"
   ]
  },
  {
   "cell_type": "code",
   "execution_count": null,
   "metadata": {},
   "outputs": [],
   "source": []
  }
 ],
 "metadata": {
  "kernelspec": {
   "display_name": "Python 3",
   "language": "python",
   "name": "python3"
  },
  "language_info": {
   "codemirror_mode": {
    "name": "ipython",
    "version": 3
   },
   "file_extension": ".py",
   "mimetype": "text/x-python",
   "name": "python",
   "nbconvert_exporter": "python",
   "pygments_lexer": "ipython3",
   "version": "3.8.5"
  }
 },
 "nbformat": 4,
 "nbformat_minor": 4
}
